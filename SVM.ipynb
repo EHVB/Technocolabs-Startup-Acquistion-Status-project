{
 "cells": [
  {
   "cell_type": "markdown",
   "metadata": {},
   "source": [
    "# Imports"
   ]
  },
  {
   "cell_type": "code",
   "execution_count": 7,
   "metadata": {},
   "outputs": [],
   "source": [
    "import pandas as pd\n",
    "import numpy as np\n",
    "import warnings\n",
    "import matplotlib.pyplot as plt\n",
    "import seaborn as sns\n",
    "from sklearn.model_selection import train_test_split\n",
    "\n",
    "sns.set()\n",
    "warnings.filterwarnings('ignore')"
   ]
  },
  {
   "cell_type": "markdown",
   "metadata": {},
   "source": [
    "# Creating SVM Model"
   ]
  },
  {
   "cell_type": "code",
   "execution_count": 8,
   "metadata": {},
   "outputs": [
    {
     "data": {
      "text/html": [
       "<div>\n",
       "<style scoped>\n",
       "    .dataframe tbody tr th:only-of-type {\n",
       "        vertical-align: middle;\n",
       "    }\n",
       "\n",
       "    .dataframe tbody tr th {\n",
       "        vertical-align: top;\n",
       "    }\n",
       "\n",
       "    .dataframe thead th {\n",
       "        text-align: right;\n",
       "    }\n",
       "</style>\n",
       "<table border=\"1\" class=\"dataframe\">\n",
       "  <thead>\n",
       "    <tr style=\"text-align: right;\">\n",
       "      <th></th>\n",
       "      <th>Unnamed: 0</th>\n",
       "      <th>PC1</th>\n",
       "      <th>PC2</th>\n",
       "      <th>PC3</th>\n",
       "      <th>PC4</th>\n",
       "      <th>PC5</th>\n",
       "      <th>PC6</th>\n",
       "      <th>PC7</th>\n",
       "      <th>status</th>\n",
       "    </tr>\n",
       "  </thead>\n",
       "  <tbody>\n",
       "    <tr>\n",
       "      <th>0</th>\n",
       "      <td>0</td>\n",
       "      <td>0.159229</td>\n",
       "      <td>-0.562613</td>\n",
       "      <td>-0.591805</td>\n",
       "      <td>-0.157964</td>\n",
       "      <td>0.659951</td>\n",
       "      <td>0.282487</td>\n",
       "      <td>-0.708394</td>\n",
       "      <td>1</td>\n",
       "    </tr>\n",
       "    <tr>\n",
       "      <th>1</th>\n",
       "      <td>1</td>\n",
       "      <td>0.025409</td>\n",
       "      <td>-0.545583</td>\n",
       "      <td>-0.628715</td>\n",
       "      <td>0.360402</td>\n",
       "      <td>-0.721383</td>\n",
       "      <td>-0.049150</td>\n",
       "      <td>0.534937</td>\n",
       "      <td>1</td>\n",
       "    </tr>\n",
       "    <tr>\n",
       "      <th>2</th>\n",
       "      <td>2</td>\n",
       "      <td>-1.181523</td>\n",
       "      <td>4.085948</td>\n",
       "      <td>1.818133</td>\n",
       "      <td>0.832832</td>\n",
       "      <td>1.918683</td>\n",
       "      <td>-0.973053</td>\n",
       "      <td>-0.373344</td>\n",
       "      <td>2</td>\n",
       "    </tr>\n",
       "    <tr>\n",
       "      <th>3</th>\n",
       "      <td>3</td>\n",
       "      <td>0.041926</td>\n",
       "      <td>-0.528871</td>\n",
       "      <td>-0.607936</td>\n",
       "      <td>0.369352</td>\n",
       "      <td>-0.656534</td>\n",
       "      <td>-0.026201</td>\n",
       "      <td>0.592552</td>\n",
       "      <td>1</td>\n",
       "    </tr>\n",
       "    <tr>\n",
       "      <th>4</th>\n",
       "      <td>4</td>\n",
       "      <td>-1.295015</td>\n",
       "      <td>4.279216</td>\n",
       "      <td>2.080705</td>\n",
       "      <td>1.216708</td>\n",
       "      <td>2.516421</td>\n",
       "      <td>-0.710619</td>\n",
       "      <td>-1.778471</td>\n",
       "      <td>2</td>\n",
       "    </tr>\n",
       "    <tr>\n",
       "      <th>...</th>\n",
       "      <td>...</td>\n",
       "      <td>...</td>\n",
       "      <td>...</td>\n",
       "      <td>...</td>\n",
       "      <td>...</td>\n",
       "      <td>...</td>\n",
       "      <td>...</td>\n",
       "      <td>...</td>\n",
       "      <td>...</td>\n",
       "    </tr>\n",
       "    <tr>\n",
       "      <th>43356</th>\n",
       "      <td>43356</td>\n",
       "      <td>0.309856</td>\n",
       "      <td>-0.169297</td>\n",
       "      <td>-0.140077</td>\n",
       "      <td>0.966977</td>\n",
       "      <td>-0.007443</td>\n",
       "      <td>0.463643</td>\n",
       "      <td>-0.465648</td>\n",
       "      <td>1</td>\n",
       "    </tr>\n",
       "    <tr>\n",
       "      <th>43357</th>\n",
       "      <td>43357</td>\n",
       "      <td>-1.322762</td>\n",
       "      <td>-0.004236</td>\n",
       "      <td>1.989456</td>\n",
       "      <td>-0.253900</td>\n",
       "      <td>-0.595255</td>\n",
       "      <td>0.384888</td>\n",
       "      <td>1.250554</td>\n",
       "      <td>1</td>\n",
       "    </tr>\n",
       "    <tr>\n",
       "      <th>43358</th>\n",
       "      <td>43358</td>\n",
       "      <td>5.909159</td>\n",
       "      <td>-2.173778</td>\n",
       "      <td>4.289523</td>\n",
       "      <td>0.962860</td>\n",
       "      <td>2.417385</td>\n",
       "      <td>0.277445</td>\n",
       "      <td>0.019121</td>\n",
       "      <td>1</td>\n",
       "    </tr>\n",
       "    <tr>\n",
       "      <th>43359</th>\n",
       "      <td>43359</td>\n",
       "      <td>0.142677</td>\n",
       "      <td>-0.183913</td>\n",
       "      <td>-0.318695</td>\n",
       "      <td>0.774432</td>\n",
       "      <td>-0.014608</td>\n",
       "      <td>0.327352</td>\n",
       "      <td>-0.660462</td>\n",
       "      <td>1</td>\n",
       "    </tr>\n",
       "    <tr>\n",
       "      <th>43360</th>\n",
       "      <td>43360</td>\n",
       "      <td>-1.451251</td>\n",
       "      <td>0.134693</td>\n",
       "      <td>2.119989</td>\n",
       "      <td>-0.132820</td>\n",
       "      <td>-0.159733</td>\n",
       "      <td>0.275413</td>\n",
       "      <td>-0.545777</td>\n",
       "      <td>1</td>\n",
       "    </tr>\n",
       "  </tbody>\n",
       "</table>\n",
       "<p>43361 rows × 9 columns</p>\n",
       "</div>"
      ],
      "text/plain": [
       "       Unnamed: 0       PC1       PC2       PC3       PC4       PC5       PC6  \\\n",
       "0               0  0.159229 -0.562613 -0.591805 -0.157964  0.659951  0.282487   \n",
       "1               1  0.025409 -0.545583 -0.628715  0.360402 -0.721383 -0.049150   \n",
       "2               2 -1.181523  4.085948  1.818133  0.832832  1.918683 -0.973053   \n",
       "3               3  0.041926 -0.528871 -0.607936  0.369352 -0.656534 -0.026201   \n",
       "4               4 -1.295015  4.279216  2.080705  1.216708  2.516421 -0.710619   \n",
       "...           ...       ...       ...       ...       ...       ...       ...   \n",
       "43356       43356  0.309856 -0.169297 -0.140077  0.966977 -0.007443  0.463643   \n",
       "43357       43357 -1.322762 -0.004236  1.989456 -0.253900 -0.595255  0.384888   \n",
       "43358       43358  5.909159 -2.173778  4.289523  0.962860  2.417385  0.277445   \n",
       "43359       43359  0.142677 -0.183913 -0.318695  0.774432 -0.014608  0.327352   \n",
       "43360       43360 -1.451251  0.134693  2.119989 -0.132820 -0.159733  0.275413   \n",
       "\n",
       "            PC7  status  \n",
       "0     -0.708394       1  \n",
       "1      0.534937       1  \n",
       "2     -0.373344       2  \n",
       "3      0.592552       1  \n",
       "4     -1.778471       2  \n",
       "...         ...     ...  \n",
       "43356 -0.465648       1  \n",
       "43357  1.250554       1  \n",
       "43358  0.019121       1  \n",
       "43359 -0.660462       1  \n",
       "43360 -0.545777       1  \n",
       "\n",
       "[43361 rows x 9 columns]"
      ]
     },
     "execution_count": 8,
     "metadata": {},
     "output_type": "execute_result"
    }
   ],
   "source": [
    "data = pd.read_csv('modelling_data.csv')\n",
    "data"
   ]
  },
  {
   "cell_type": "code",
   "execution_count": 9,
   "metadata": {},
   "outputs": [
    {
     "data": {
      "text/html": [
       "<div>\n",
       "<style scoped>\n",
       "    .dataframe tbody tr th:only-of-type {\n",
       "        vertical-align: middle;\n",
       "    }\n",
       "\n",
       "    .dataframe tbody tr th {\n",
       "        vertical-align: top;\n",
       "    }\n",
       "\n",
       "    .dataframe thead th {\n",
       "        text-align: right;\n",
       "    }\n",
       "</style>\n",
       "<table border=\"1\" class=\"dataframe\">\n",
       "  <thead>\n",
       "    <tr style=\"text-align: right;\">\n",
       "      <th></th>\n",
       "      <th>PC1</th>\n",
       "      <th>PC2</th>\n",
       "      <th>PC3</th>\n",
       "      <th>PC4</th>\n",
       "      <th>PC5</th>\n",
       "      <th>PC6</th>\n",
       "      <th>PC7</th>\n",
       "      <th>status</th>\n",
       "    </tr>\n",
       "  </thead>\n",
       "  <tbody>\n",
       "    <tr>\n",
       "      <th>0</th>\n",
       "      <td>0.159229</td>\n",
       "      <td>-0.562613</td>\n",
       "      <td>-0.591805</td>\n",
       "      <td>-0.157964</td>\n",
       "      <td>0.659951</td>\n",
       "      <td>0.282487</td>\n",
       "      <td>-0.708394</td>\n",
       "      <td>1</td>\n",
       "    </tr>\n",
       "    <tr>\n",
       "      <th>1</th>\n",
       "      <td>0.025409</td>\n",
       "      <td>-0.545583</td>\n",
       "      <td>-0.628715</td>\n",
       "      <td>0.360402</td>\n",
       "      <td>-0.721383</td>\n",
       "      <td>-0.049150</td>\n",
       "      <td>0.534937</td>\n",
       "      <td>1</td>\n",
       "    </tr>\n",
       "    <tr>\n",
       "      <th>2</th>\n",
       "      <td>-1.181523</td>\n",
       "      <td>4.085948</td>\n",
       "      <td>1.818133</td>\n",
       "      <td>0.832832</td>\n",
       "      <td>1.918683</td>\n",
       "      <td>-0.973053</td>\n",
       "      <td>-0.373344</td>\n",
       "      <td>2</td>\n",
       "    </tr>\n",
       "    <tr>\n",
       "      <th>3</th>\n",
       "      <td>0.041926</td>\n",
       "      <td>-0.528871</td>\n",
       "      <td>-0.607936</td>\n",
       "      <td>0.369352</td>\n",
       "      <td>-0.656534</td>\n",
       "      <td>-0.026201</td>\n",
       "      <td>0.592552</td>\n",
       "      <td>1</td>\n",
       "    </tr>\n",
       "    <tr>\n",
       "      <th>4</th>\n",
       "      <td>-1.295015</td>\n",
       "      <td>4.279216</td>\n",
       "      <td>2.080705</td>\n",
       "      <td>1.216708</td>\n",
       "      <td>2.516421</td>\n",
       "      <td>-0.710619</td>\n",
       "      <td>-1.778471</td>\n",
       "      <td>2</td>\n",
       "    </tr>\n",
       "    <tr>\n",
       "      <th>...</th>\n",
       "      <td>...</td>\n",
       "      <td>...</td>\n",
       "      <td>...</td>\n",
       "      <td>...</td>\n",
       "      <td>...</td>\n",
       "      <td>...</td>\n",
       "      <td>...</td>\n",
       "      <td>...</td>\n",
       "    </tr>\n",
       "    <tr>\n",
       "      <th>43356</th>\n",
       "      <td>0.309856</td>\n",
       "      <td>-0.169297</td>\n",
       "      <td>-0.140077</td>\n",
       "      <td>0.966977</td>\n",
       "      <td>-0.007443</td>\n",
       "      <td>0.463643</td>\n",
       "      <td>-0.465648</td>\n",
       "      <td>1</td>\n",
       "    </tr>\n",
       "    <tr>\n",
       "      <th>43357</th>\n",
       "      <td>-1.322762</td>\n",
       "      <td>-0.004236</td>\n",
       "      <td>1.989456</td>\n",
       "      <td>-0.253900</td>\n",
       "      <td>-0.595255</td>\n",
       "      <td>0.384888</td>\n",
       "      <td>1.250554</td>\n",
       "      <td>1</td>\n",
       "    </tr>\n",
       "    <tr>\n",
       "      <th>43358</th>\n",
       "      <td>5.909159</td>\n",
       "      <td>-2.173778</td>\n",
       "      <td>4.289523</td>\n",
       "      <td>0.962860</td>\n",
       "      <td>2.417385</td>\n",
       "      <td>0.277445</td>\n",
       "      <td>0.019121</td>\n",
       "      <td>1</td>\n",
       "    </tr>\n",
       "    <tr>\n",
       "      <th>43359</th>\n",
       "      <td>0.142677</td>\n",
       "      <td>-0.183913</td>\n",
       "      <td>-0.318695</td>\n",
       "      <td>0.774432</td>\n",
       "      <td>-0.014608</td>\n",
       "      <td>0.327352</td>\n",
       "      <td>-0.660462</td>\n",
       "      <td>1</td>\n",
       "    </tr>\n",
       "    <tr>\n",
       "      <th>43360</th>\n",
       "      <td>-1.451251</td>\n",
       "      <td>0.134693</td>\n",
       "      <td>2.119989</td>\n",
       "      <td>-0.132820</td>\n",
       "      <td>-0.159733</td>\n",
       "      <td>0.275413</td>\n",
       "      <td>-0.545777</td>\n",
       "      <td>1</td>\n",
       "    </tr>\n",
       "  </tbody>\n",
       "</table>\n",
       "<p>43361 rows × 8 columns</p>\n",
       "</div>"
      ],
      "text/plain": [
       "            PC1       PC2       PC3       PC4       PC5       PC6       PC7  \\\n",
       "0      0.159229 -0.562613 -0.591805 -0.157964  0.659951  0.282487 -0.708394   \n",
       "1      0.025409 -0.545583 -0.628715  0.360402 -0.721383 -0.049150  0.534937   \n",
       "2     -1.181523  4.085948  1.818133  0.832832  1.918683 -0.973053 -0.373344   \n",
       "3      0.041926 -0.528871 -0.607936  0.369352 -0.656534 -0.026201  0.592552   \n",
       "4     -1.295015  4.279216  2.080705  1.216708  2.516421 -0.710619 -1.778471   \n",
       "...         ...       ...       ...       ...       ...       ...       ...   \n",
       "43356  0.309856 -0.169297 -0.140077  0.966977 -0.007443  0.463643 -0.465648   \n",
       "43357 -1.322762 -0.004236  1.989456 -0.253900 -0.595255  0.384888  1.250554   \n",
       "43358  5.909159 -2.173778  4.289523  0.962860  2.417385  0.277445  0.019121   \n",
       "43359  0.142677 -0.183913 -0.318695  0.774432 -0.014608  0.327352 -0.660462   \n",
       "43360 -1.451251  0.134693  2.119989 -0.132820 -0.159733  0.275413 -0.545777   \n",
       "\n",
       "       status  \n",
       "0           1  \n",
       "1           1  \n",
       "2           2  \n",
       "3           1  \n",
       "4           2  \n",
       "...       ...  \n",
       "43356       1  \n",
       "43357       1  \n",
       "43358       1  \n",
       "43359       1  \n",
       "43360       1  \n",
       "\n",
       "[43361 rows x 8 columns]"
      ]
     },
     "execution_count": 9,
     "metadata": {},
     "output_type": "execute_result"
    }
   ],
   "source": [
    "# removing index column\n",
    "data.drop('Unnamed: 0',axis=1,inplace=True)\n",
    "data"
   ]
  },
  {
   "cell_type": "code",
   "execution_count": 10,
   "metadata": {},
   "outputs": [],
   "source": [
    "x = data.drop('status',axis=1)\n",
    "y = data['status']"
   ]
  },
  {
   "cell_type": "markdown",
   "metadata": {},
   "source": [
    "##### 1 -> operating\n",
    "##### 2 -> acquired\n",
    "##### 3 -> closed\n",
    "##### 4 -> ipo"
   ]
  },
  {
   "cell_type": "code",
   "execution_count": 11,
   "metadata": {},
   "outputs": [],
   "source": [
    "from sklearn.model_selection import train_test_split\n",
    "\n",
    "x_train,x_test,y_train,y_test = train_test_split(x,y,test_size=0.2,random_state=0)"
   ]
  },
  {
   "cell_type": "markdown",
   "metadata": {},
   "source": [
    "i will try different kernels and select the one with highest performance"
   ]
  },
  {
   "cell_type": "code",
   "execution_count": 12,
   "metadata": {},
   "outputs": [
    {
     "data": {
      "text/html": [
       "<style>#sk-container-id-1 {color: black;background-color: white;}#sk-container-id-1 pre{padding: 0;}#sk-container-id-1 div.sk-toggleable {background-color: white;}#sk-container-id-1 label.sk-toggleable__label {cursor: pointer;display: block;width: 100%;margin-bottom: 0;padding: 0.3em;box-sizing: border-box;text-align: center;}#sk-container-id-1 label.sk-toggleable__label-arrow:before {content: \"▸\";float: left;margin-right: 0.25em;color: #696969;}#sk-container-id-1 label.sk-toggleable__label-arrow:hover:before {color: black;}#sk-container-id-1 div.sk-estimator:hover label.sk-toggleable__label-arrow:before {color: black;}#sk-container-id-1 div.sk-toggleable__content {max-height: 0;max-width: 0;overflow: hidden;text-align: left;background-color: #f0f8ff;}#sk-container-id-1 div.sk-toggleable__content pre {margin: 0.2em;color: black;border-radius: 0.25em;background-color: #f0f8ff;}#sk-container-id-1 input.sk-toggleable__control:checked~div.sk-toggleable__content {max-height: 200px;max-width: 100%;overflow: auto;}#sk-container-id-1 input.sk-toggleable__control:checked~label.sk-toggleable__label-arrow:before {content: \"▾\";}#sk-container-id-1 div.sk-estimator input.sk-toggleable__control:checked~label.sk-toggleable__label {background-color: #d4ebff;}#sk-container-id-1 div.sk-label input.sk-toggleable__control:checked~label.sk-toggleable__label {background-color: #d4ebff;}#sk-container-id-1 input.sk-hidden--visually {border: 0;clip: rect(1px 1px 1px 1px);clip: rect(1px, 1px, 1px, 1px);height: 1px;margin: -1px;overflow: hidden;padding: 0;position: absolute;width: 1px;}#sk-container-id-1 div.sk-estimator {font-family: monospace;background-color: #f0f8ff;border: 1px dotted black;border-radius: 0.25em;box-sizing: border-box;margin-bottom: 0.5em;}#sk-container-id-1 div.sk-estimator:hover {background-color: #d4ebff;}#sk-container-id-1 div.sk-parallel-item::after {content: \"\";width: 100%;border-bottom: 1px solid gray;flex-grow: 1;}#sk-container-id-1 div.sk-label:hover label.sk-toggleable__label {background-color: #d4ebff;}#sk-container-id-1 div.sk-serial::before {content: \"\";position: absolute;border-left: 1px solid gray;box-sizing: border-box;top: 0;bottom: 0;left: 50%;z-index: 0;}#sk-container-id-1 div.sk-serial {display: flex;flex-direction: column;align-items: center;background-color: white;padding-right: 0.2em;padding-left: 0.2em;position: relative;}#sk-container-id-1 div.sk-item {position: relative;z-index: 1;}#sk-container-id-1 div.sk-parallel {display: flex;align-items: stretch;justify-content: center;background-color: white;position: relative;}#sk-container-id-1 div.sk-item::before, #sk-container-id-1 div.sk-parallel-item::before {content: \"\";position: absolute;border-left: 1px solid gray;box-sizing: border-box;top: 0;bottom: 0;left: 50%;z-index: -1;}#sk-container-id-1 div.sk-parallel-item {display: flex;flex-direction: column;z-index: 1;position: relative;background-color: white;}#sk-container-id-1 div.sk-parallel-item:first-child::after {align-self: flex-end;width: 50%;}#sk-container-id-1 div.sk-parallel-item:last-child::after {align-self: flex-start;width: 50%;}#sk-container-id-1 div.sk-parallel-item:only-child::after {width: 0;}#sk-container-id-1 div.sk-dashed-wrapped {border: 1px dashed gray;margin: 0 0.4em 0.5em 0.4em;box-sizing: border-box;padding-bottom: 0.4em;background-color: white;}#sk-container-id-1 div.sk-label label {font-family: monospace;font-weight: bold;display: inline-block;line-height: 1.2em;}#sk-container-id-1 div.sk-label-container {text-align: center;}#sk-container-id-1 div.sk-container {/* jupyter's `normalize.less` sets `[hidden] { display: none; }` but bootstrap.min.css set `[hidden] { display: none !important; }` so we also need the `!important` here to be able to override the default hidden behavior on the sphinx rendered scikit-learn.org. See: https://github.com/scikit-learn/scikit-learn/issues/21755 */display: inline-block !important;position: relative;}#sk-container-id-1 div.sk-text-repr-fallback {display: none;}</style><div id=\"sk-container-id-1\" class=\"sk-top-container\"><div class=\"sk-text-repr-fallback\"><pre>SVC(decision_function_shape=&#x27;ovo&#x27;, kernel=&#x27;poly&#x27;)</pre><b>In a Jupyter environment, please rerun this cell to show the HTML representation or trust the notebook. <br />On GitHub, the HTML representation is unable to render, please try loading this page with nbviewer.org.</b></div><div class=\"sk-container\" hidden><div class=\"sk-item\"><div class=\"sk-estimator sk-toggleable\"><input class=\"sk-toggleable__control sk-hidden--visually\" id=\"sk-estimator-id-1\" type=\"checkbox\" checked><label for=\"sk-estimator-id-1\" class=\"sk-toggleable__label sk-toggleable__label-arrow\">SVC</label><div class=\"sk-toggleable__content\"><pre>SVC(decision_function_shape=&#x27;ovo&#x27;, kernel=&#x27;poly&#x27;)</pre></div></div></div></div></div>"
      ],
      "text/plain": [
       "SVC(decision_function_shape='ovo', kernel='poly')"
      ]
     },
     "execution_count": 12,
     "metadata": {},
     "output_type": "execute_result"
    }
   ],
   "source": [
    "from sklearn.svm import SVC\n",
    "\n",
    "linear_model = SVC(kernel='linear',decision_function_shape=\"ovo\")\n",
    "linear_model.fit(x_train,y_train)\n",
    "\n",
    "rbf_model = SVC(kernel='rbf',decision_function_shape=\"ovo\")\n",
    "rbf_model.fit(x_train,y_train)\n",
    "\n",
    "poly_model = SVC(kernel=\"poly\", degree=3,decision_function_shape=\"ovo\")\n",
    "poly_model.fit(x_train,y_train)"
   ]
  },
  {
   "cell_type": "code",
   "execution_count": 13,
   "metadata": {},
   "outputs": [],
   "source": [
    "# predictions\n",
    "linear_pred = linear_model.predict(x_test)\n",
    "rbf_pred = rbf_model.predict(x_test)\n",
    "poly_pred = poly_model.predict(x_test)"
   ]
  },
  {
   "cell_type": "code",
   "execution_count": 14,
   "metadata": {},
   "outputs": [
    {
     "name": "stdout",
     "output_type": "stream",
     "text": [
      "              precision    recall  f1-score   support\n",
      "\n",
      "           1       0.99      1.00      1.00      7782\n",
      "           2       0.89      0.92      0.90       566\n",
      "           3       0.80      0.74      0.77       249\n",
      "           4       0.00      0.00      0.00        76\n",
      "\n",
      "    accuracy                           0.98      8673\n",
      "   macro avg       0.67      0.66      0.67      8673\n",
      "weighted avg       0.97      0.98      0.97      8673\n",
      "\n"
     ]
    }
   ],
   "source": [
    "from sklearn.metrics import classification_report\n",
    "linear_report = classification_report(y_test,linear_pred)\n",
    "print(linear_report)"
   ]
  },
  {
   "cell_type": "code",
   "execution_count": 15,
   "metadata": {},
   "outputs": [
    {
     "name": "stdout",
     "output_type": "stream",
     "text": [
      "              precision    recall  f1-score   support\n",
      "\n",
      "           1       0.99      1.00      1.00      7782\n",
      "           2       0.84      0.94      0.89       566\n",
      "           3       0.83      0.61      0.70       249\n",
      "           4       0.73      0.11      0.18        76\n",
      "\n",
      "    accuracy                           0.98      8673\n",
      "   macro avg       0.85      0.66      0.69      8673\n",
      "weighted avg       0.97      0.98      0.97      8673\n",
      "\n"
     ]
    }
   ],
   "source": [
    "rbf_report = classification_report(y_test,rbf_pred)\n",
    "print(rbf_report)"
   ]
  },
  {
   "cell_type": "code",
   "execution_count": 16,
   "metadata": {},
   "outputs": [
    {
     "name": "stdout",
     "output_type": "stream",
     "text": [
      "              precision    recall  f1-score   support\n",
      "\n",
      "           1       0.99      1.00      1.00      7782\n",
      "           2       0.91      0.94      0.93       566\n",
      "           3       0.85      0.80      0.82       249\n",
      "           4       0.88      0.09      0.17        76\n",
      "\n",
      "    accuracy                           0.98      8673\n",
      "   macro avg       0.91      0.71      0.73      8673\n",
      "weighted avg       0.98      0.98      0.98      8673\n",
      "\n"
     ]
    }
   ],
   "source": [
    "poly_report = classification_report(y_test,poly_pred)\n",
    "print(poly_report)"
   ]
  },
  {
   "cell_type": "code",
   "execution_count": 17,
   "metadata": {},
   "outputs": [
    {
     "name": "stdout",
     "output_type": "stream",
     "text": [
      "[[7782    0    0    0]\n",
      " [   0  519   47    0]\n",
      " [   0   65  184    0]\n",
      " [  76    0    0    0]]\n"
     ]
    }
   ],
   "source": [
    "from sklearn.metrics import confusion_matrix\n",
    "\n",
    "linear_matrix = confusion_matrix(y_test,linear_pred)\n",
    "print(linear_matrix)"
   ]
  },
  {
   "cell_type": "code",
   "execution_count": 18,
   "metadata": {},
   "outputs": [
    {
     "name": "stdout",
     "output_type": "stream",
     "text": [
      "[[7779    0    0    3]\n",
      " [   1  533   32    0]\n",
      " [   0   98  151    0]\n",
      " [  68    0    0    8]]\n"
     ]
    }
   ],
   "source": [
    "rbf_matrix = confusion_matrix(y_test,rbf_pred)\n",
    "print(rbf_matrix)"
   ]
  },
  {
   "cell_type": "code",
   "execution_count": 19,
   "metadata": {},
   "outputs": [
    {
     "name": "stdout",
     "output_type": "stream",
     "text": [
      "[[7781    0    0    1]\n",
      " [   0  531   35    0]\n",
      " [   0   50  199    0]\n",
      " [  69    0    0    7]]\n"
     ]
    }
   ],
   "source": [
    "poly_matrix = confusion_matrix(y_test,poly_pred)\n",
    "print(poly_matrix)"
   ]
  },
  {
   "cell_type": "markdown",
   "metadata": {},
   "source": [
    "the linear model has percesion of 0 in case of IPO !!"
   ]
  },
  {
   "cell_type": "markdown",
   "metadata": {},
   "source": [
    "the best model among the three models is the polynomial one. So, we can further inhance it to achieve better recall."
   ]
  },
  {
   "cell_type": "markdown",
   "metadata": {},
   "source": [
    "# Balancing"
   ]
  },
  {
   "cell_type": "code",
   "execution_count": 20,
   "metadata": {},
   "outputs": [
    {
     "data": {
      "text/plain": [
       "1    38986\n",
       "2     2783\n",
       "3     1183\n",
       "4      409\n",
       "Name: status, dtype: int64"
      ]
     },
     "execution_count": 20,
     "metadata": {},
     "output_type": "execute_result"
    }
   ],
   "source": [
    "# get the value counts of the target column\n",
    "y.value_counts()"
   ]
  },
  {
   "cell_type": "markdown",
   "metadata": {},
   "source": [
    "we will use the value count of acquired to undersample operating and oversample closed and ipo"
   ]
  },
  {
   "cell_type": "code",
   "execution_count": 21,
   "metadata": {},
   "outputs": [],
   "source": [
    "operating = data[data['status'] == 1]\n",
    "acquired = data[data['status'] == 2]\n",
    "closed = data[data['status'] == 3]\n",
    "ipo = data[data['status'] == 4]"
   ]
  },
  {
   "cell_type": "code",
   "execution_count": 22,
   "metadata": {},
   "outputs": [
    {
     "data": {
      "text/plain": [
       "(2783, 8)"
      ]
     },
     "execution_count": 22,
     "metadata": {},
     "output_type": "execute_result"
    }
   ],
   "source": [
    "operating = operating.sample(acquired.shape[0],random_state=0)\n",
    "operating.shape"
   ]
  },
  {
   "cell_type": "code",
   "execution_count": 23,
   "metadata": {},
   "outputs": [
    {
     "data": {
      "text/plain": [
       "(2783, 8)"
      ]
     },
     "execution_count": 23,
     "metadata": {},
     "output_type": "execute_result"
    }
   ],
   "source": [
    "closed = closed.sample(acquired.shape[0],replace=True,random_state=0)\n",
    "closed.shape"
   ]
  },
  {
   "cell_type": "code",
   "execution_count": 24,
   "metadata": {},
   "outputs": [
    {
     "data": {
      "text/plain": [
       "(2783, 8)"
      ]
     },
     "execution_count": 24,
     "metadata": {},
     "output_type": "execute_result"
    }
   ],
   "source": [
    "ipo = ipo.sample(acquired.shape[0],replace=True,random_state=0)\n",
    "ipo.shape"
   ]
  },
  {
   "cell_type": "code",
   "execution_count": 25,
   "metadata": {},
   "outputs": [
    {
     "data": {
      "text/html": [
       "<div>\n",
       "<style scoped>\n",
       "    .dataframe tbody tr th:only-of-type {\n",
       "        vertical-align: middle;\n",
       "    }\n",
       "\n",
       "    .dataframe tbody tr th {\n",
       "        vertical-align: top;\n",
       "    }\n",
       "\n",
       "    .dataframe thead th {\n",
       "        text-align: right;\n",
       "    }\n",
       "</style>\n",
       "<table border=\"1\" class=\"dataframe\">\n",
       "  <thead>\n",
       "    <tr style=\"text-align: right;\">\n",
       "      <th></th>\n",
       "      <th>PC1</th>\n",
       "      <th>PC2</th>\n",
       "      <th>PC3</th>\n",
       "      <th>PC4</th>\n",
       "      <th>PC5</th>\n",
       "      <th>PC6</th>\n",
       "      <th>PC7</th>\n",
       "      <th>status</th>\n",
       "    </tr>\n",
       "  </thead>\n",
       "  <tbody>\n",
       "    <tr>\n",
       "      <th>6894</th>\n",
       "      <td>-1.575368</td>\n",
       "      <td>-0.677618</td>\n",
       "      <td>0.541785</td>\n",
       "      <td>0.345049</td>\n",
       "      <td>-0.602037</td>\n",
       "      <td>0.257419</td>\n",
       "      <td>0.565867</td>\n",
       "      <td>1</td>\n",
       "    </tr>\n",
       "    <tr>\n",
       "      <th>29151</th>\n",
       "      <td>1.118219</td>\n",
       "      <td>1.825567</td>\n",
       "      <td>-0.359798</td>\n",
       "      <td>-0.878922</td>\n",
       "      <td>-1.028346</td>\n",
       "      <td>0.498862</td>\n",
       "      <td>0.700482</td>\n",
       "      <td>1</td>\n",
       "    </tr>\n",
       "    <tr>\n",
       "      <th>21491</th>\n",
       "      <td>-0.075359</td>\n",
       "      <td>-0.445215</td>\n",
       "      <td>-0.658759</td>\n",
       "      <td>0.522238</td>\n",
       "      <td>-0.876709</td>\n",
       "      <td>-0.032855</td>\n",
       "      <td>0.504502</td>\n",
       "      <td>1</td>\n",
       "    </tr>\n",
       "    <tr>\n",
       "      <th>30039</th>\n",
       "      <td>-0.247741</td>\n",
       "      <td>-0.270872</td>\n",
       "      <td>-0.795076</td>\n",
       "      <td>0.345761</td>\n",
       "      <td>0.123727</td>\n",
       "      <td>0.541835</td>\n",
       "      <td>-0.751444</td>\n",
       "      <td>1</td>\n",
       "    </tr>\n",
       "    <tr>\n",
       "      <th>2812</th>\n",
       "      <td>2.688831</td>\n",
       "      <td>0.461711</td>\n",
       "      <td>4.411604</td>\n",
       "      <td>-0.949799</td>\n",
       "      <td>0.299542</td>\n",
       "      <td>0.230913</td>\n",
       "      <td>0.495600</td>\n",
       "      <td>1</td>\n",
       "    </tr>\n",
       "    <tr>\n",
       "      <th>...</th>\n",
       "      <td>...</td>\n",
       "      <td>...</td>\n",
       "      <td>...</td>\n",
       "      <td>...</td>\n",
       "      <td>...</td>\n",
       "      <td>...</td>\n",
       "      <td>...</td>\n",
       "      <td>...</td>\n",
       "    </tr>\n",
       "    <tr>\n",
       "      <th>35307</th>\n",
       "      <td>-2.357082</td>\n",
       "      <td>1.340915</td>\n",
       "      <td>1.125432</td>\n",
       "      <td>0.122043</td>\n",
       "      <td>0.683153</td>\n",
       "      <td>-2.250059</td>\n",
       "      <td>1.385992</td>\n",
       "      <td>3</td>\n",
       "    </tr>\n",
       "    <tr>\n",
       "      <th>26916</th>\n",
       "      <td>-2.765246</td>\n",
       "      <td>1.196318</td>\n",
       "      <td>1.168855</td>\n",
       "      <td>0.438767</td>\n",
       "      <td>0.474660</td>\n",
       "      <td>-2.311518</td>\n",
       "      <td>1.257432</td>\n",
       "      <td>3</td>\n",
       "    </tr>\n",
       "    <tr>\n",
       "      <th>9540</th>\n",
       "      <td>-2.788241</td>\n",
       "      <td>1.383168</td>\n",
       "      <td>0.896831</td>\n",
       "      <td>0.195943</td>\n",
       "      <td>0.533606</td>\n",
       "      <td>-2.218173</td>\n",
       "      <td>1.243913</td>\n",
       "      <td>3</td>\n",
       "    </tr>\n",
       "    <tr>\n",
       "      <th>5122</th>\n",
       "      <td>-1.198625</td>\n",
       "      <td>0.986140</td>\n",
       "      <td>-1.435735</td>\n",
       "      <td>1.193200</td>\n",
       "      <td>0.655007</td>\n",
       "      <td>-2.178689</td>\n",
       "      <td>1.132531</td>\n",
       "      <td>3</td>\n",
       "    </tr>\n",
       "    <tr>\n",
       "      <th>31185</th>\n",
       "      <td>0.621471</td>\n",
       "      <td>3.090061</td>\n",
       "      <td>-1.153565</td>\n",
       "      <td>-1.081770</td>\n",
       "      <td>0.905191</td>\n",
       "      <td>-2.350959</td>\n",
       "      <td>0.989777</td>\n",
       "      <td>3</td>\n",
       "    </tr>\n",
       "  </tbody>\n",
       "</table>\n",
       "<p>11132 rows × 8 columns</p>\n",
       "</div>"
      ],
      "text/plain": [
       "            PC1       PC2       PC3       PC4       PC5       PC6       PC7  \\\n",
       "6894  -1.575368 -0.677618  0.541785  0.345049 -0.602037  0.257419  0.565867   \n",
       "29151  1.118219  1.825567 -0.359798 -0.878922 -1.028346  0.498862  0.700482   \n",
       "21491 -0.075359 -0.445215 -0.658759  0.522238 -0.876709 -0.032855  0.504502   \n",
       "30039 -0.247741 -0.270872 -0.795076  0.345761  0.123727  0.541835 -0.751444   \n",
       "2812   2.688831  0.461711  4.411604 -0.949799  0.299542  0.230913  0.495600   \n",
       "...         ...       ...       ...       ...       ...       ...       ...   \n",
       "35307 -2.357082  1.340915  1.125432  0.122043  0.683153 -2.250059  1.385992   \n",
       "26916 -2.765246  1.196318  1.168855  0.438767  0.474660 -2.311518  1.257432   \n",
       "9540  -2.788241  1.383168  0.896831  0.195943  0.533606 -2.218173  1.243913   \n",
       "5122  -1.198625  0.986140 -1.435735  1.193200  0.655007 -2.178689  1.132531   \n",
       "31185  0.621471  3.090061 -1.153565 -1.081770  0.905191 -2.350959  0.989777   \n",
       "\n",
       "       status  \n",
       "6894        1  \n",
       "29151       1  \n",
       "21491       1  \n",
       "30039       1  \n",
       "2812        1  \n",
       "...       ...  \n",
       "35307       3  \n",
       "26916       3  \n",
       "9540        3  \n",
       "5122        3  \n",
       "31185       3  \n",
       "\n",
       "[11132 rows x 8 columns]"
      ]
     },
     "execution_count": 25,
     "metadata": {},
     "output_type": "execute_result"
    }
   ],
   "source": [
    "balanced_data = pd.concat([operating,acquired,ipo,closed],axis=0)\n",
    "balanced_data"
   ]
  },
  {
   "cell_type": "code",
   "execution_count": 26,
   "metadata": {},
   "outputs": [
    {
     "data": {
      "text/plain": [
       "1    2783\n",
       "2    2783\n",
       "4    2783\n",
       "3    2783\n",
       "Name: status, dtype: int64"
      ]
     },
     "execution_count": 26,
     "metadata": {},
     "output_type": "execute_result"
    }
   ],
   "source": [
    "balanced_data['status'].value_counts()"
   ]
  },
  {
   "cell_type": "markdown",
   "metadata": {},
   "source": [
    "we didn't use RandomOverSampler or SMOTE to oversample the data because oversampling ipo from 409 to 38986 will cause overfitting"
   ]
  },
  {
   "cell_type": "code",
   "execution_count": 27,
   "metadata": {},
   "outputs": [],
   "source": [
    "x = balanced_data.drop('status',axis=1)\n",
    "y = balanced_data['status']"
   ]
  },
  {
   "cell_type": "code",
   "execution_count": 28,
   "metadata": {},
   "outputs": [],
   "source": [
    "x_train,x_test,y_train,y_test = train_test_split(x,y,test_size=0.2,random_state=0)"
   ]
  },
  {
   "cell_type": "code",
   "execution_count": 29,
   "metadata": {},
   "outputs": [],
   "source": [
    "final_model = SVC(kernel='rbf', gamma=1, C=1, decision_function_shape='ovo').fit(x_train, y_train)"
   ]
  },
  {
   "cell_type": "code",
   "execution_count": 30,
   "metadata": {},
   "outputs": [],
   "source": [
    "model_pred = final_model.predict(x_test)"
   ]
  },
  {
   "cell_type": "code",
   "execution_count": 31,
   "metadata": {},
   "outputs": [
    {
     "name": "stdout",
     "output_type": "stream",
     "text": [
      "              precision    recall  f1-score   support\n",
      "\n",
      "           1       0.93      0.90      0.92       540\n",
      "           2       0.90      0.88      0.89       567\n",
      "           3       0.88      0.91      0.89       560\n",
      "           4       0.91      0.93      0.92       560\n",
      "\n",
      "    accuracy                           0.91      2227\n",
      "   macro avg       0.91      0.91      0.91      2227\n",
      "weighted avg       0.91      0.91      0.91      2227\n",
      "\n"
     ]
    }
   ],
   "source": [
    "model_report = classification_report(y_test,model_pred)\n",
    "print(model_report)"
   ]
  },
  {
   "cell_type": "code",
   "execution_count": 32,
   "metadata": {},
   "outputs": [
    {
     "name": "stdout",
     "output_type": "stream",
     "text": [
      "[[488   3   0  49]\n",
      " [  0 498  69   0]\n",
      " [  0  52 508   0]\n",
      " [ 38   0   0 522]]\n"
     ]
    }
   ],
   "source": [
    "model_matrix = confusion_matrix(y_test,model_pred)\n",
    "print(model_matrix)"
   ]
  },
  {
   "cell_type": "markdown",
   "metadata": {},
   "source": [
    "the accuracy decreased as we balanced the data but the recall for ipo increased significantly. and the f1-score for all classes is above 0.85"
   ]
  },
  {
   "cell_type": "code",
   "execution_count": 33,
   "metadata": {},
   "outputs": [
    {
     "name": "stdout",
     "output_type": "stream",
     "text": [
      "[0.88774136 0.90480467 0.90655885 0.89937107 0.88409704]\n",
      "0.8965145960443806\n"
     ]
    }
   ],
   "source": [
    "#cross-validation\n",
    "from sklearn.model_selection import cross_val_score\n",
    "scores = cross_val_score(final_model,x,y,cv=5,scoring='accuracy')\n",
    "print(scores)\n",
    "print(scores.mean())"
   ]
  }
 ],
 "metadata": {
  "kernelspec": {
   "display_name": "Python 3.9.12 ('base')",
   "language": "python",
   "name": "python3"
  },
  "language_info": {
   "codemirror_mode": {
    "name": "ipython",
    "version": 3
   },
   "file_extension": ".py",
   "mimetype": "text/x-python",
   "name": "python",
   "nbconvert_exporter": "python",
   "pygments_lexer": "ipython3",
   "version": "3.9.12"
  },
  "orig_nbformat": 4,
  "vscode": {
   "interpreter": {
    "hash": "5ae58900cfbb8c43ab3495913814b7cf26024f51651a94ce8bf64d6111688e8d"
   }
  }
 },
 "nbformat": 4,
 "nbformat_minor": 2
}
