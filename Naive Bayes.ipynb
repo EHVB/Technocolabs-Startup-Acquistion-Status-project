{
 "cells": [
  {
   "cell_type": "code",
   "execution_count": 2,
   "id": "706e6c95",
   "metadata": {},
   "outputs": [],
   "source": [
    "#importing libraries\n",
    "import numpy as np\n",
    "import pandas as pd"
   ]
  },
  {
   "cell_type": "code",
   "execution_count": 3,
   "id": "c14b6aa8",
   "metadata": {},
   "outputs": [
    {
     "data": {
      "text/html": [
       "<div>\n",
       "<style scoped>\n",
       "    .dataframe tbody tr th:only-of-type {\n",
       "        vertical-align: middle;\n",
       "    }\n",
       "\n",
       "    .dataframe tbody tr th {\n",
       "        vertical-align: top;\n",
       "    }\n",
       "\n",
       "    .dataframe thead th {\n",
       "        text-align: right;\n",
       "    }\n",
       "</style>\n",
       "<table border=\"1\" class=\"dataframe\">\n",
       "  <thead>\n",
       "    <tr style=\"text-align: right;\">\n",
       "      <th></th>\n",
       "      <th>PC1</th>\n",
       "      <th>PC2</th>\n",
       "      <th>PC3</th>\n",
       "      <th>PC4</th>\n",
       "      <th>PC5</th>\n",
       "      <th>PC6</th>\n",
       "      <th>PC7</th>\n",
       "      <th>status</th>\n",
       "    </tr>\n",
       "  </thead>\n",
       "  <tbody>\n",
       "    <tr>\n",
       "      <th>0</th>\n",
       "      <td>0.159229</td>\n",
       "      <td>-0.562613</td>\n",
       "      <td>-0.591805</td>\n",
       "      <td>-0.157964</td>\n",
       "      <td>0.659951</td>\n",
       "      <td>0.282487</td>\n",
       "      <td>-0.708394</td>\n",
       "      <td>1</td>\n",
       "    </tr>\n",
       "    <tr>\n",
       "      <th>1</th>\n",
       "      <td>0.025409</td>\n",
       "      <td>-0.545583</td>\n",
       "      <td>-0.628715</td>\n",
       "      <td>0.360402</td>\n",
       "      <td>-0.721383</td>\n",
       "      <td>-0.049150</td>\n",
       "      <td>0.534937</td>\n",
       "      <td>1</td>\n",
       "    </tr>\n",
       "    <tr>\n",
       "      <th>2</th>\n",
       "      <td>-1.181523</td>\n",
       "      <td>4.085948</td>\n",
       "      <td>1.818133</td>\n",
       "      <td>0.832832</td>\n",
       "      <td>1.918683</td>\n",
       "      <td>-0.973053</td>\n",
       "      <td>-0.373344</td>\n",
       "      <td>2</td>\n",
       "    </tr>\n",
       "    <tr>\n",
       "      <th>3</th>\n",
       "      <td>0.041926</td>\n",
       "      <td>-0.528871</td>\n",
       "      <td>-0.607936</td>\n",
       "      <td>0.369352</td>\n",
       "      <td>-0.656534</td>\n",
       "      <td>-0.026201</td>\n",
       "      <td>0.592552</td>\n",
       "      <td>1</td>\n",
       "    </tr>\n",
       "    <tr>\n",
       "      <th>4</th>\n",
       "      <td>-1.295015</td>\n",
       "      <td>4.279216</td>\n",
       "      <td>2.080705</td>\n",
       "      <td>1.216708</td>\n",
       "      <td>2.516421</td>\n",
       "      <td>-0.710619</td>\n",
       "      <td>-1.778471</td>\n",
       "      <td>2</td>\n",
       "    </tr>\n",
       "  </tbody>\n",
       "</table>\n",
       "</div>"
      ],
      "text/plain": [
       "        PC1       PC2       PC3       PC4       PC5       PC6       PC7  \\\n",
       "0  0.159229 -0.562613 -0.591805 -0.157964  0.659951  0.282487 -0.708394   \n",
       "1  0.025409 -0.545583 -0.628715  0.360402 -0.721383 -0.049150  0.534937   \n",
       "2 -1.181523  4.085948  1.818133  0.832832  1.918683 -0.973053 -0.373344   \n",
       "3  0.041926 -0.528871 -0.607936  0.369352 -0.656534 -0.026201  0.592552   \n",
       "4 -1.295015  4.279216  2.080705  1.216708  2.516421 -0.710619 -1.778471   \n",
       "\n",
       "   status  \n",
       "0       1  \n",
       "1       1  \n",
       "2       2  \n",
       "3       1  \n",
       "4       2  "
      ]
     },
     "execution_count": 3,
     "metadata": {},
     "output_type": "execute_result"
    }
   ],
   "source": [
    "df=pd.read_csv(r'D:\\University\\AI_diploma\\Technocolabs\\fina\\modelling_data.csv')\n",
    "df.drop(labels='Unnamed: 0',axis=1,inplace=True)\n",
    "df.head()"
   ]
  },
  {
   "cell_type": "code",
   "execution_count": 6,
   "id": "737e5baa",
   "metadata": {},
   "outputs": [],
   "source": [
    "from sklearn.model_selection import train_test_split\n",
    "from sklearn import naive_bayes\n",
    "from sklearn.preprocessing import MinMaxScaler \n",
    "from sklearn.metrics import classification_report\n",
    "from collections import Counter"
   ]
  },
  {
   "cell_type": "code",
   "execution_count": 16,
   "id": "09bc4985",
   "metadata": {},
   "outputs": [
    {
     "name": "stdout",
     "output_type": "stream",
     "text": [
      "Counter({1: 38986, 2: 2783, 3: 1183, 4: 409})\n"
     ]
    }
   ],
   "source": [
    "X=df.drop(labels = 'status', axis = 1)\n",
    "X2=X.copy()\n",
    "y=df.status\n",
    "scaler=MinMaxScaler()\n",
    "X2 = scaler.fit_transform(X2)\n",
    "X2 = pd.DataFrame(X2, columns = ['PC1','PC2','PC3','PC4','PC5','PC6','PC7'])\n",
    "X_train,X_test,y_train,y_test = train_test_split(X, y, test_size=0.2, random_state=42)\n",
    "X2_train,X2_test,y2_train,y2_test = train_test_split(X2, y, test_size=0.2, random_state=42)\n",
    "print(Counter(y))"
   ]
  },
  {
   "cell_type": "code",
   "execution_count": 18,
   "id": "b7f63e7b",
   "metadata": {},
   "outputs": [
    {
     "name": "stdout",
     "output_type": "stream",
     "text": [
      "Train accuracy is : 0.8979185885608856\n",
      "              precision    recall  f1-score   support\n",
      "\n",
      "           1       0.90      1.00      0.95      7839\n",
      "           2       0.00      0.00      0.00       526\n",
      "           3       0.00      0.00      0.00       223\n",
      "           4       0.00      0.00      0.00        85\n",
      "\n",
      "    accuracy                           0.90      8673\n",
      "   macro avg       0.23      0.25      0.24      8673\n",
      "weighted avg       0.82      0.90      0.86      8673\n",
      "\n"
     ]
    },
    {
     "name": "stderr",
     "output_type": "stream",
     "text": [
      "C:\\ProgramData\\Anaconda3\\lib\\site-packages\\sklearn\\metrics\\_classification.py:1318: UndefinedMetricWarning: Precision and F-score are ill-defined and being set to 0.0 in labels with no predicted samples. Use `zero_division` parameter to control this behavior.\n",
      "  _warn_prf(average, modifier, msg_start, len(result))\n",
      "C:\\ProgramData\\Anaconda3\\lib\\site-packages\\sklearn\\metrics\\_classification.py:1318: UndefinedMetricWarning: Precision and F-score are ill-defined and being set to 0.0 in labels with no predicted samples. Use `zero_division` parameter to control this behavior.\n",
      "  _warn_prf(average, modifier, msg_start, len(result))\n",
      "C:\\ProgramData\\Anaconda3\\lib\\site-packages\\sklearn\\metrics\\_classification.py:1318: UndefinedMetricWarning: Precision and F-score are ill-defined and being set to 0.0 in labels with no predicted samples. Use `zero_division` parameter to control this behavior.\n",
      "  _warn_prf(average, modifier, msg_start, len(result))\n"
     ]
    }
   ],
   "source": [
    "#using multinomial naive bayes(with min-max scaled features as it doesn't accept negative values so normalized values can't\n",
    "#be used)\n",
    "MNB = naive_bayes.MultinomialNB()\n",
    "MNB.fit(X2_train,y2_train)\n",
    "y_hat=MNB.predict(X2_test)\n",
    "print('Train accuracy is : {}'.format(MNB.score(X2_train,y2_train)))\n",
    "print(classification_report(y2_test,y_hat))"
   ]
  },
  {
   "cell_type": "code",
   "execution_count": 20,
   "id": "b693031a",
   "metadata": {},
   "outputs": [
    {
     "name": "stdout",
     "output_type": "stream",
     "text": [
      "              precision    recall  f1-score   support\n",
      "\n",
      "           1       0.99      1.00      0.99      7839\n",
      "           2       0.69      0.99      0.82       526\n",
      "           3       0.00      0.00      0.00       223\n",
      "           4       0.00      0.00      0.00        85\n",
      "\n",
      "    accuracy                           0.96      8673\n",
      "   macro avg       0.42      0.50      0.45      8673\n",
      "weighted avg       0.94      0.96      0.95      8673\n",
      "\n"
     ]
    }
   ],
   "source": [
    "#using complemented naive bayes(also with min-max scaled features)\n",
    "CNB = naive_bayes.ComplementNB()\n",
    "CNB.fit(X2_train,y2_train)\n",
    "y_hat=CNB.predict(X2_test)\n",
    "CNB.score(X2_train,y2_train)\n",
    "print(classification_report(y2_test,y_hat))"
   ]
  },
  {
   "cell_type": "code",
   "execution_count": 21,
   "id": "3ab5312e",
   "metadata": {},
   "outputs": [
    {
     "name": "stdout",
     "output_type": "stream",
     "text": [
      "              precision    recall  f1-score   support\n",
      "\n",
      "           1       0.99      0.97      0.98      7839\n",
      "           2       0.85      0.79      0.82       526\n",
      "           3       0.60      0.63      0.62       223\n",
      "           4       0.10      0.33      0.16        85\n",
      "\n",
      "    accuracy                           0.95      8673\n",
      "   macro avg       0.64      0.68      0.64      8673\n",
      "weighted avg       0.96      0.95      0.95      8673\n",
      "\n"
     ]
    }
   ],
   "source": [
    "#using gaussian naive bayes( with normalized features)\n",
    "GNB = naive_bayes.GaussianNB()\n",
    "GNB.fit(X_train,y_train)\n",
    "y_hat=GNB.predict(X_test)\n",
    "GNB.score(X_train,y_train)\n",
    "print(classification_report(y_test,y_hat))"
   ]
  },
  {
   "cell_type": "markdown",
   "id": "1ffd1631",
   "metadata": {},
   "source": [
    "### we can notice that f1-score is very bad for all types of naive bayes algorithms. as we have strongly biased labels, so we can try oversampling methods that works for multiclassification problems "
   ]
  },
  {
   "cell_type": "markdown",
   "id": "27eda121",
   "metadata": {},
   "source": [
    "#### let's try smote oversampling"
   ]
  },
  {
   "cell_type": "code",
   "execution_count": 23,
   "id": "17dd75c6",
   "metadata": {},
   "outputs": [
    {
     "name": "stdout",
     "output_type": "stream",
     "text": [
      "Counter({1: 38986, 2: 38986, 3: 38986, 4: 38986})\n"
     ]
    }
   ],
   "source": [
    "from imblearn.over_sampling import SMOTE\n",
    "oversample=SMOTE()\n",
    "X_over, y_over = oversample.fit_resample(X, y)\n",
    "X2_over,y2_over = oversample.fit_resample(X2, y)\n",
    "print(Counter(y_over))\n"
   ]
  },
  {
   "cell_type": "code",
   "execution_count": 25,
   "id": "4f811787",
   "metadata": {},
   "outputs": [
    {
     "name": "stdout",
     "output_type": "stream",
     "text": [
      "Train accuracy is : 0.6899763536531602\n",
      "              precision    recall  f1-score   support\n",
      "\n",
      "           1       0.63      0.94      0.75      7672\n",
      "           2       0.78      0.57      0.66      7896\n",
      "           3       0.68      0.81      0.74      7852\n",
      "           4       0.77      0.45      0.56      7769\n",
      "\n",
      "    accuracy                           0.69     31189\n",
      "   macro avg       0.71      0.69      0.68     31189\n",
      "weighted avg       0.71      0.69      0.68     31189\n",
      "\n"
     ]
    }
   ],
   "source": [
    "#trying modelling again and seeing the best model of them (with normalized for gauss, min-max scaled data for the rest of models)\n",
    "X_train,X_test,y_train,y_test = train_test_split(X_over, y_over, test_size=0.2, random_state=42)\n",
    "GNB = naive_bayes.GaussianNB()\n",
    "GNB.fit(X_train,y_train)\n",
    "y_hat=GNB.predict(X_test)\n",
    "GNB.score(X_train,y_train)\n",
    "print('Train accuracy is : {}'.format(GNB.score(X_train,y_train)))\n",
    "print(classification_report(y_test,y_hat))"
   ]
  },
  {
   "cell_type": "code",
   "execution_count": 27,
   "id": "377788bb",
   "metadata": {},
   "outputs": [
    {
     "name": "stdout",
     "output_type": "stream",
     "text": [
      "Train accuracy is : 0.6186204961724981\n",
      "              precision    recall  f1-score   support\n",
      "\n",
      "           1       0.98      0.13      0.23      7672\n",
      "           2       0.71      0.61      0.66      7896\n",
      "           3       0.57      0.74      0.64      7852\n",
      "           4       0.58      0.98      0.73      7769\n",
      "\n",
      "    accuracy                           0.62     31189\n",
      "   macro avg       0.71      0.62      0.57     31189\n",
      "weighted avg       0.71      0.62      0.57     31189\n",
      "\n",
      "Train accuracy is : 0.7411326199350727\n",
      "              precision    recall  f1-score   support\n",
      "\n",
      "           1       0.73      0.86      0.79      7672\n",
      "           2       0.70      0.74      0.72      7896\n",
      "           3       0.69      0.68      0.69      7852\n",
      "           4       0.89      0.69      0.78      7769\n",
      "\n",
      "    accuracy                           0.74     31189\n",
      "   macro avg       0.75      0.74      0.74     31189\n",
      "weighted avg       0.75      0.74      0.74     31189\n",
      "\n"
     ]
    }
   ],
   "source": [
    "\n",
    "X2_train,X2_test,y2_train,y2_test = train_test_split(X2_over, y2_over, test_size=0.2, random_state=42)\n",
    "CNB = naive_bayes.ComplementNB()\n",
    "CNB.fit(X2_train,y2_train)\n",
    "y_hat=CNB.predict(X2_test)\n",
    "CNB.score(X2_train,y2_train)\n",
    "print('Train accuracy is : {}'.format(CNB.score(X2_train,y2_train)))\n",
    "print(classification_report(y2_test,y_hat))\n",
    "\n",
    "MNB = naive_bayes.MultinomialNB()\n",
    "MNB.fit(X2_train,y2_train)\n",
    "y_hat=MNB.predict(X2_test)\n",
    "print('Train accuracy is : {}'.format(MNB.score(X2_train,y2_train)))\n",
    "print(classification_report(y2_test,y_hat))"
   ]
  },
  {
   "cell_type": "code",
   "execution_count": 28,
   "id": "df71c0cc",
   "metadata": {},
   "outputs": [],
   "source": [
    "from imblearn.combine import SMOTETomek\n",
    "from imblearn.under_sampling import TomekLinks"
   ]
  },
  {
   "cell_type": "code",
   "execution_count": 30,
   "id": "cddd2592",
   "metadata": {},
   "outputs": [],
   "source": [
    "#trying another combined-sampling method\n",
    "resample=SMOTETomek(tomek=TomekLinks(sampling_strategy='majority'))\n",
    "X_over, y_over = resample.fit_resample(X, y)\n",
    "X2_over, y2_over = resample.fit_resample(X2, y)\n",
    "X_train,X_test,y_train,y_test = train_test_split(X_over, y_over, test_size=0.2, random_state=42)\n",
    "X2_train,X2_test,y2_train,y2_test = train_test_split(X2_over, y2_over, test_size=0.2, random_state=42)"
   ]
  },
  {
   "cell_type": "code",
   "execution_count": 31,
   "id": "0f393b14",
   "metadata": {},
   "outputs": [
    {
     "name": "stdout",
     "output_type": "stream",
     "text": [
      "Counter({2: 38986, 3: 38986, 4: 38986, 1: 38945})\n"
     ]
    }
   ],
   "source": [
    "print(Counter(y_over))"
   ]
  },
  {
   "cell_type": "code",
   "execution_count": 32,
   "id": "7dc6c6e9",
   "metadata": {},
   "outputs": [
    {
     "name": "stdout",
     "output_type": "stream",
     "text": [
      "Train accuracy is : 0.6767450810602781\n",
      "              precision    recall  f1-score   support\n",
      "\n",
      "           1       0.62      0.94      0.75      7668\n",
      "           2       0.77      0.58      0.66      7762\n",
      "           3       0.68      0.79      0.74      7814\n",
      "           4       0.77      0.45      0.57      7937\n",
      "\n",
      "    accuracy                           0.69     31181\n",
      "   macro avg       0.71      0.69      0.68     31181\n",
      "weighted avg       0.71      0.69      0.68     31181\n",
      "\n"
     ]
    }
   ],
   "source": [
    "GNB = naive_bayes.GaussianNB()\n",
    "GNB.fit(X_train,y_train)\n",
    "y_hat=GNB.predict(X_test)\n",
    "GNB.score(X_train,y_train)\n",
    "print('Train accuracy is : {}'.format(MNB.score(X_train,y_train)))\n",
    "print(classification_report(y_test,y_hat))"
   ]
  },
  {
   "cell_type": "code",
   "execution_count": 33,
   "id": "7d36c94f",
   "metadata": {},
   "outputs": [
    {
     "name": "stdout",
     "output_type": "stream",
     "text": [
      "Train accuracy is : 0.6211815076730649\n",
      "              precision    recall  f1-score   support\n",
      "\n",
      "           1       0.99      0.15      0.26      7624\n",
      "           2       0.72      0.63      0.67      7796\n",
      "           3       0.57      0.74      0.65      7815\n",
      "           4       0.59      0.99      0.74      7946\n",
      "\n",
      "    accuracy                           0.63     31181\n",
      "   macro avg       0.72      0.62      0.58     31181\n",
      "weighted avg       0.72      0.63      0.58     31181\n",
      "\n",
      "Train accuracy is : 0.7352832699924632\n",
      "              precision    recall  f1-score   support\n",
      "\n",
      "           1       0.69      0.87      0.77      7624\n",
      "           2       0.71      0.75      0.73      7796\n",
      "           3       0.69      0.69      0.69      7815\n",
      "           4       0.91      0.63      0.74      7946\n",
      "\n",
      "    accuracy                           0.73     31181\n",
      "   macro avg       0.75      0.73      0.73     31181\n",
      "weighted avg       0.75      0.73      0.73     31181\n",
      "\n"
     ]
    }
   ],
   "source": [
    "CNB = naive_bayes.ComplementNB()\n",
    "CNB.fit(X2_train,y2_train)\n",
    "y_hat=CNB.predict(X2_test)\n",
    "CNB.score(X2_train,y_train)\n",
    "print('Train accuracy is : {}'.format(CNB.score(X2_train,y2_train)))\n",
    "print(classification_report(y2_test,y_hat))\n",
    "\n",
    "MNB = naive_bayes.MultinomialNB()\n",
    "MNB.fit(X2_train,y2_train)\n",
    "y_hat=MNB.predict(X2_test)\n",
    "print('Train accuracy is : {}'.format(MNB.score(X2_train,y2_train)))\n",
    "print(classification_report(y2_test,y_hat))"
   ]
  },
  {
   "cell_type": "markdown",
   "id": "6a9a204c",
   "metadata": {},
   "source": [
    "##### the best model is multinomial for our min-max scaled oversampled data with the first smote oversampling method with accuracy 74.2%"
   ]
  }
 ],
 "metadata": {
  "kernelspec": {
   "display_name": "Python 3.9.12 ('base')",
   "language": "python",
   "name": "python3"
  },
  "language_info": {
   "codemirror_mode": {
    "name": "ipython",
    "version": 3
   },
   "file_extension": ".py",
   "mimetype": "text/x-python",
   "name": "python",
   "nbconvert_exporter": "python",
   "pygments_lexer": "ipython3",
   "version": "3.9.12"
  },
  "vscode": {
   "interpreter": {
    "hash": "5ae58900cfbb8c43ab3495913814b7cf26024f51651a94ce8bf64d6111688e8d"
   }
  }
 },
 "nbformat": 4,
 "nbformat_minor": 5
}
